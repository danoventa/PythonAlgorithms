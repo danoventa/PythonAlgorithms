{
 "cells": [
  {
   "cell_type": "code",
   "execution_count": 5,
   "metadata": {
    "collapsed": true
   },
   "outputs": [],
   "source": [
    "def bubble_sort(arr):\n",
    "    # this will arange all elements backwards, except for the last one, \n",
    "    # which is not included. \n",
    "    for n in range(len(arr)-1, 0, -1):\n",
    "        print(\"This is the n \", n)\n",
    "        for k in range(n):\n",
    "            print(\"This is the k index check: \", k)\n",
    "            if arr[k] > arr[k+1]:\n",
    "                temp = arr[k]\n",
    "                arr[k] = arr[k+1]\n",
    "                arr[k+1] = temp"
   ]
  },
  {
   "cell_type": "code",
   "execution_count": 6,
   "metadata": {
    "collapsed": false
   },
   "outputs": [
    {
     "name": "stdout",
     "output_type": "stream",
     "text": [
      "This is the n  9\n",
      "This is the k index check:  0\n",
      "This is the k index check:  1\n",
      "This is the k index check:  2\n",
      "This is the k index check:  3\n",
      "This is the k index check:  4\n",
      "This is the k index check:  5\n",
      "This is the k index check:  6\n",
      "This is the k index check:  7\n",
      "This is the k index check:  8\n",
      "This is the n  8\n",
      "This is the k index check:  0\n",
      "This is the k index check:  1\n",
      "This is the k index check:  2\n",
      "This is the k index check:  3\n",
      "This is the k index check:  4\n",
      "This is the k index check:  5\n",
      "This is the k index check:  6\n",
      "This is the k index check:  7\n",
      "This is the n  7\n",
      "This is the k index check:  0\n",
      "This is the k index check:  1\n",
      "This is the k index check:  2\n",
      "This is the k index check:  3\n",
      "This is the k index check:  4\n",
      "This is the k index check:  5\n",
      "This is the k index check:  6\n",
      "This is the n  6\n",
      "This is the k index check:  0\n",
      "This is the k index check:  1\n",
      "This is the k index check:  2\n",
      "This is the k index check:  3\n",
      "This is the k index check:  4\n",
      "This is the k index check:  5\n",
      "This is the n  5\n",
      "This is the k index check:  0\n",
      "This is the k index check:  1\n",
      "This is the k index check:  2\n",
      "This is the k index check:  3\n",
      "This is the k index check:  4\n",
      "This is the n  4\n",
      "This is the k index check:  0\n",
      "This is the k index check:  1\n",
      "This is the k index check:  2\n",
      "This is the k index check:  3\n",
      "This is the n  3\n",
      "This is the k index check:  0\n",
      "This is the k index check:  1\n",
      "This is the k index check:  2\n",
      "This is the n  2\n",
      "This is the k index check:  0\n",
      "This is the k index check:  1\n",
      "This is the n  1\n",
      "This is the k index check:  0\n"
     ]
    }
   ],
   "source": [
    "arr = [3,2,13,4,6,5,7,8,1,20]\n",
    "bubble_sort(arr)"
   ]
  },
  {
   "cell_type": "code",
   "execution_count": 4,
   "metadata": {
    "collapsed": false
   },
   "outputs": [
    {
     "data": {
      "text/plain": [
       "[1, 2, 3, 4, 5, 6, 7, 8, 13, 20]"
      ]
     },
     "execution_count": 4,
     "metadata": {},
     "output_type": "execute_result"
    }
   ],
   "source": [
    "arr"
   ]
  },
  {
   "cell_type": "code",
   "execution_count": null,
   "metadata": {
    "collapsed": true
   },
   "outputs": [],
   "source": []
  }
 ],
 "metadata": {
  "kernelspec": {
   "display_name": "Python 3",
   "language": "python",
   "name": "python3"
  },
  "language_info": {
   "codemirror_mode": {
    "name": "ipython",
    "version": 3
   },
   "file_extension": ".py",
   "mimetype": "text/x-python",
   "name": "python",
   "nbconvert_exporter": "python",
   "pygments_lexer": "ipython3",
   "version": "3.5.2"
  }
 },
 "nbformat": 4,
 "nbformat_minor": 0
}
