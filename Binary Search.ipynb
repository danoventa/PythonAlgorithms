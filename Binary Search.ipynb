{
 "cells": [
  {
   "cell_type": "code",
   "execution_count": 19,
   "metadata": {
    "collapsed": true
   },
   "outputs": [],
   "source": [
    "def binary_search(arr, ele):\n",
    "    \n",
    "    # First and last index values\n",
    "    first = 0\n",
    "    last = len(arr) - 1\n",
    "    \n",
    "    found = False\n",
    "    \n",
    "    while first <= last and not found:\n",
    "        mid = (first + last)//2 # classical division\n",
    "        \n",
    "        if arr[mid] == ele:\n",
    "            found = True\n",
    "            \n",
    "        else:\n",
    "            if ele < arr[mid]:\n",
    "                last = mid-1\n",
    "                \n",
    "            else:\n",
    "                first = mid + 1\n",
    "                \n",
    "    return found\n",
    "    "
   ]
  },
  {
   "cell_type": "code",
   "execution_count": 20,
   "metadata": {
    "collapsed": true
   },
   "outputs": [],
   "source": [
    "arr = list(range(1, 11))\n",
    "\n",
    "# arr = [1, 2, 3, 4, 5, 6, 7, 8, 9, 10]"
   ]
  },
  {
   "cell_type": "code",
   "execution_count": 21,
   "metadata": {
    "collapsed": false
   },
   "outputs": [
    {
     "data": {
      "text/plain": [
       "[1, 2, 3, 4, 5, 6, 7, 8, 9, 10]"
      ]
     },
     "execution_count": 21,
     "metadata": {},
     "output_type": "execute_result"
    }
   ],
   "source": [
    "arr"
   ]
  },
  {
   "cell_type": "code",
   "execution_count": 22,
   "metadata": {
    "collapsed": false
   },
   "outputs": [
    {
     "data": {
      "text/plain": [
       "True"
      ]
     },
     "execution_count": 22,
     "metadata": {},
     "output_type": "execute_result"
    }
   ],
   "source": [
    "binary_search(arr, 4)"
   ]
  },
  {
   "cell_type": "code",
   "execution_count": 29,
   "metadata": {
    "collapsed": true
   },
   "outputs": [],
   "source": [
    "def recursive_binary_search(arr, ele):\n",
    "    if len(arr) == 0:\n",
    "        return False\n",
    "    \n",
    "    else:\n",
    "        \n",
    "        mid = len(arr)//2\n",
    "        \n",
    "        if arr[mid] == ele:\n",
    "            return True\n",
    "        \n",
    "        else:\n",
    "            \n",
    "            if ele < arr[mid]:\n",
    "                return recursive_binary_search(arr[:mid], ele)\n",
    "            \n",
    "            else:\n",
    "                return recursive_binary_search(arr[mid+1:], ele)"
   ]
  },
  {
   "cell_type": "code",
   "execution_count": 30,
   "metadata": {
    "collapsed": false
   },
   "outputs": [
    {
     "data": {
      "text/plain": [
       "True"
      ]
     },
     "execution_count": 30,
     "metadata": {},
     "output_type": "execute_result"
    }
   ],
   "source": [
    "recursive_binary_search(arr, 4)"
   ]
  },
  {
   "cell_type": "code",
   "execution_count": 31,
   "metadata": {
    "collapsed": false
   },
   "outputs": [
    {
     "data": {
      "text/plain": [
       "False"
      ]
     },
     "execution_count": 31,
     "metadata": {},
     "output_type": "execute_result"
    }
   ],
   "source": [
    "recursive_binary_search(arr,15)\n"
   ]
  },
  {
   "cell_type": "code",
   "execution_count": null,
   "metadata": {
    "collapsed": true
   },
   "outputs": [],
   "source": []
  }
 ],
 "metadata": {
  "kernelspec": {
   "display_name": "Python 3",
   "language": "python",
   "name": "python3"
  },
  "language_info": {
   "codemirror_mode": {
    "name": "ipython",
    "version": 3
   },
   "file_extension": ".py",
   "mimetype": "text/x-python",
   "name": "python",
   "nbconvert_exporter": "python",
   "pygments_lexer": "ipython3",
   "version": "3.5.2"
  }
 },
 "nbformat": 4,
 "nbformat_minor": 0
}
