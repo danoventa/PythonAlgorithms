{
 "cells": [
  {
   "cell_type": "code",
   "execution_count": 5,
   "metadata": {
    "collapsed": false
   },
   "outputs": [
    {
     "name": "stdout",
     "output_type": "stream",
     "text": [
      "True\n",
      "False\n"
     ]
    }
   ],
   "source": [
    "class Node:\n",
    "    def __init__(self, k, val):\n",
    "        self.key = k\n",
    "        self.value = val\n",
    "        self.left = None\n",
    "        self.right = None\n",
    "        \n",
    "def tree_max(node):\n",
    "    if not node:\n",
    "        return float(\"-inf\")\n",
    "    maxleft = tree_max(node.left)\n",
    "    maxright = tree_max(node.right)\n",
    "    return max(node.key, maxleft, maxright)\n",
    "\n",
    "def tree_min(node):\n",
    "    if not node:\n",
    "        return float(\"inf\")\n",
    "    minleft = tree_min(node.left)\n",
    "    minright = tree_min(node.right)\n",
    "    return min(node.key, minleft, minright)\n",
    "\n",
    "def verify(node):\n",
    "    if not node:\n",
    "        return True\n",
    "    if (tree_max(node.left) <= node.key <= tree_min(node.right) and verify(node.left) and verify(node.right)):\n",
    "        return True\n",
    "    else:\n",
    "        return False\n",
    "    \n",
    "root = Node(10, \"Hello\")\n",
    "root.left = Node(5, \"Five\")\n",
    "root.right = Node(30, \"Thirty\")\n",
    "\n",
    "print(verify(root))\n",
    "\n",
    "root = Node(10, \"Ten\")\n",
    "root.right = Node(20, \"Twenty\")\n",
    "root.left = Node(5, \"Five\")\n",
    "root.left.right = Node(15, \"Fifteen\")\n",
    "\n",
    "print(verify(root))"
   ]
  },
  {
   "cell_type": "code",
   "execution_count": 8,
   "metadata": {
    "collapsed": false
   },
   "outputs": [],
   "source": [
    "class Node2:\n",
    "    def __init__(self, val=None):\n",
    "        self.left = None\n",
    "        self.right = None\n",
    "        self.val = val"
   ]
  },
  {
   "cell_type": "code",
   "execution_count": 14,
   "metadata": {
    "collapsed": false
   },
   "outputs": [],
   "source": [
    "def levelOrderPrint(tree):\n",
    "    if not tree:\n",
    "        return \n",
    "    nodes = collections.deque([tree])\n",
    "    currentCount, nextCount = 1, 0\n",
    "    while len(nodes) != 0:\n",
    "        currentNode = nodes.popleft()\n",
    "        currentCount -= 1\n",
    "        print(currentNode.val)\n",
    "        if currentNode.left:\n",
    "            nodes.append(currentNode.left)\n",
    "            nextCount += 1\n",
    "        if currentNode.right:\n",
    "            nodes.append(currentNode.right)\n",
    "            nextCount += 1\n",
    "        if currentCount == 0:\n",
    "            print(currentCount, nextCount, currentCount)"
   ]
  },
  {
   "cell_type": "code",
   "execution_count": 15,
   "metadata": {
    "collapsed": true
   },
   "outputs": [],
   "source": [
    "def trimBST(tree, minVal, maxVal):\n",
    "    \n",
    "    if not tree:\n",
    "        return \n",
    "    \n",
    "    tree.left=trimBST(tree.left, minVal, maxVal)\n",
    "    tree.right=trimBST(tree.right, minVal, maxVal)\n",
    "    \n",
    "    if minVal <= tree.val <= maxVal:\n",
    "        return tree\n",
    "    \n",
    "    if tree.val < minVal:\n",
    "        return tree.right\n",
    "    \n",
    "    if tree.val>maxVal:\n",
    "        return tree.left4"
   ]
  },
  {
   "cell_type": "code",
   "execution_count": null,
   "metadata": {
    "collapsed": true
   },
   "outputs": [],
   "source": []
  }
 ],
 "metadata": {
  "kernelspec": {
   "display_name": "Python 3",
   "language": "python",
   "name": "python3"
  },
  "language_info": {
   "codemirror_mode": {
    "name": "ipython",
    "version": 3
   },
   "file_extension": ".py",
   "mimetype": "text/x-python",
   "name": "python",
   "nbconvert_exporter": "python",
   "pygments_lexer": "ipython3",
   "version": "3.5.2"
  }
 },
 "nbformat": 4,
 "nbformat_minor": 0
}
